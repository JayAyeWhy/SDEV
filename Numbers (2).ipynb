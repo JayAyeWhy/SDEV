{
 "cells": [
  {
   "cell_type": "markdown",
   "id": "076d924d-5491-46c4-bc63-8080af8505e7",
   "metadata": {},
   "source": [
    "## M01 Programming Assignment - Numbers and Types"
   ]
  },
  {
   "cell_type": "markdown",
   "id": "1605db9a-4d99-4432-ad7e-3066f8fba31d",
   "metadata": {},
   "source": [
    "### 3.1 How many seconds are in an hour? Use the interactive interpreter as a calculator and multiply the number of seconds in a minute (60) by the number of minutes in an hour (also 60)."
   ]
  },
  {
   "cell_type": "code",
   "execution_count": 9,
   "id": "bf6b2be3-3451-495f-b198-2ca58de0d004",
   "metadata": {},
   "outputs": [
    {
     "name": "stdout",
     "output_type": "stream",
     "text": [
      "There are 216000 seconds are in a hour\n"
     ]
    }
   ],
   "source": [
    "print(\"There are \" + str(60*60*60) + \" seconds are in a hour\")"
   ]
  },
  {
   "cell_type": "markdown",
   "id": "995f78cc-0774-438d-887a-9d5d8fdaa7bb",
   "metadata": {},
   "source": [
    "### 3.2 Assign the result from the previous task (seconds in an hour) to a variable called seconds_per_hour.\n"
   ]
  },
  {
   "cell_type": "code",
   "execution_count": 10,
   "id": "85bfd624-0c7e-4638-97bb-c39fcc8c2ba9",
   "metadata": {},
   "outputs": [],
   "source": [
    "seconds_per_hour = 216000"
   ]
  },
  {
   "cell_type": "markdown",
   "id": "2b05ad78-8168-4f47-8202-214cd9b49aa9",
   "metadata": {},
   "source": [
    "### 3.3 How many seconds are in a day? Use your seconds_per_hour variable."
   ]
  },
  {
   "cell_type": "code",
   "execution_count": 11,
   "id": "2056cf4a-5d0a-4bb0-8704-724078661454",
   "metadata": {},
   "outputs": [
    {
     "name": "stdout",
     "output_type": "stream",
     "text": [
      "There are 5184000 in a day\n"
     ]
    }
   ],
   "source": [
    "print(\"There are \" + str(seconds_per_hour*24) + \" in a day\")"
   ]
  },
  {
   "cell_type": "markdown",
   "id": "c90fba11-1c2a-42d8-ad8e-6e6376bca832",
   "metadata": {},
   "source": [
    "### 3.4 Calculate seconds per day again, but this time save the result in a variable called seconds_per_day."
   ]
  },
  {
   "cell_type": "code",
   "execution_count": 12,
   "id": "46105acb-6cfe-442a-a7b5-64c771d2949c",
   "metadata": {},
   "outputs": [],
   "source": [
    "seconds_per_day = seconds_per_hour*24"
   ]
  },
  {
   "cell_type": "markdown",
   "id": "fac86e46-d458-4caa-a1e4-b3a86843b550",
   "metadata": {},
   "source": [
    "### 3.5 Divide seconds_per_day by seconds_per_hour. Use floating-point (/) division."
   ]
  },
  {
   "cell_type": "code",
   "execution_count": 13,
   "id": "056c892d-e8f4-40bd-b861-caeb553946c5",
   "metadata": {},
   "outputs": [
    {
     "name": "stdout",
     "output_type": "stream",
     "text": [
      "24.0\n"
     ]
    }
   ],
   "source": [
    "print(seconds_per_day/seconds_per_hour)"
   ]
  },
  {
   "cell_type": "markdown",
   "id": "0a502131-f5ee-4a7b-b581-874d892c3171",
   "metadata": {},
   "source": [
    "### 3.6 Divide seconds_per_day by seconds_per_hour, using integer (//) division. Did this number agree with the floating-point value from the previous question, aside from the final .0?"
   ]
  },
  {
   "cell_type": "code",
   "execution_count": 14,
   "id": "3cc005a8-b582-4e00-b559-ee8cfb0320eb",
   "metadata": {},
   "outputs": [
    {
     "name": "stdout",
     "output_type": "stream",
     "text": [
      "24\n"
     ]
    }
   ],
   "source": [
    "print(seconds_per_day//seconds_per_hour)"
   ]
  },
  {
   "cell_type": "markdown",
   "id": "aa0c6f7d-6998-4e9f-a3b5-069894df42dd",
   "metadata": {},
   "source": [
    "#### No the vaulue was still the same"
   ]
  }
 ],
 "metadata": {
  "kernelspec": {
   "display_name": "Python 3 (ipykernel)",
   "language": "python",
   "name": "python3"
  },
  "language_info": {
   "codemirror_mode": {
    "name": "ipython",
    "version": 3
   },
   "file_extension": ".py",
   "mimetype": "text/x-python",
   "name": "python",
   "nbconvert_exporter": "python",
   "pygments_lexer": "ipython3",
   "version": "3.11.7"
  }
 },
 "nbformat": 4,
 "nbformat_minor": 5
}
