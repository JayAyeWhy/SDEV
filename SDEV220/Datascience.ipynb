{
 "cells": [
  {
   "cell_type": "code",
   "execution_count": 1,
   "id": "06fc259c-0f1c-467d-9db6-c77650141548",
   "metadata": {
    "collapsed": true,
    "jupyter": {
     "outputs_hidden": true
    }
   },
   "outputs": [
    {
     "ename": "SyntaxError",
     "evalue": "invalid syntax (4169397459.py, line 2)",
     "output_type": "error",
     "traceback": [
      "\u001b[1;36m  Cell \u001b[1;32mIn[1], line 2\u001b[1;36m\u001b[0m\n\u001b[1;33m    pd.\u001b[0m\n\u001b[1;37m       ^\u001b[0m\n\u001b[1;31mSyntaxError\u001b[0m\u001b[1;31m:\u001b[0m invalid syntax\n"
     ]
    }
   ],
   "source": [
    "import pandas as pd"
   ]
  },
  {
   "cell_type": "code",
   "execution_count": null,
   "id": "1a372579-7d98-423c-ae90-6537362341d2",
   "metadata": {},
   "outputs": [],
   "source": [
    "pd."
   ]
  },
  {
   "cell_type": "code",
   "execution_count": null,
   "id": "7b43f3e3-0f2c-4934-b3b9-5ae22e30bf40",
   "metadata": {},
   "outputs": [],
   "source": [
    "df = pd.read_csv(\"telco_churn.csv\")"
   ]
  },
  {
   "cell_type": "code",
   "execution_count": null,
   "id": "efc0d11a-33f3-4ae8-a3a5-08388d3dbb98",
   "metadata": {},
   "outputs": [],
   "source": [
    "tempdict = {'col1':[1,2,3], 'col2':[4,5,6], 'col3':[7,8,9]}"
   ]
  },
  {
   "cell_type": "code",
   "execution_count": null,
   "id": "2357f96d-2ba9-4f22-87d7-e8682225d24a",
   "metadata": {},
   "outputs": [],
   "source": [
    "dictdf = pd.DataFrame.from_dict(tempdict)"
   ]
  },
  {
   "cell_type": "code",
   "execution_count": null,
   "id": "5c66201e-9037-4278-8a45-92c81381bdfa",
   "metadata": {},
   "outputs": [],
   "source": [
    "df.head(10)"
   ]
  },
  {
   "cell_type": "code",
   "execution_count": null,
   "id": "6517acc7-c225-4c29-b950-b867a6727211",
   "metadata": {},
   "outputs": [],
   "source": [
    "dictdf.head()"
   ]
  },
  {
   "cell_type": "code",
   "execution_count": null,
   "id": "b03eb4a7-3761-44bc-8e65-481f258a0d50",
   "metadata": {},
   "outputs": [],
   "source": [
    "df.tail(15)"
   ]
  },
  {
   "cell_type": "code",
   "execution_count": null,
   "id": "46e0b623-4ce8-4e51-89a9-cb92f441451b",
   "metadata": {},
   "outputs": [],
   "source": [
    "df.columns"
   ]
  },
  {
   "cell_type": "code",
   "execution_count": null,
   "id": "37752c4c-3f0e-4fba-8e4e-ef70fdcaaada",
   "metadata": {},
   "outputs": [],
   "source": [
    "df.dtypes"
   ]
  },
  {
   "cell_type": "code",
   "execution_count": null,
   "id": "d004973f-da7e-432b-ad2a-0a77ae20df6e",
   "metadata": {},
   "outputs": [],
   "source": [
    "df.describe()"
   ]
  },
  {
   "cell_type": "code",
   "execution_count": null,
   "id": "f50a9de8-a403-4288-8de0-2bf61d7a223a",
   "metadata": {},
   "outputs": [],
   "source": [
    "df.describe(include='object')"
   ]
  },
  {
   "cell_type": "code",
   "execution_count": null,
   "id": "d3ca607f-2444-48e9-9146-bdd192f5d7c6",
   "metadata": {},
   "outputs": [],
   "source": [
    "df.State"
   ]
  },
  {
   "cell_type": "code",
   "execution_count": null,
   "id": "dc15edd9-274e-4224-8d2f-520369922f9a",
   "metadata": {},
   "outputs": [],
   "source": [
    "df['International plan']"
   ]
  },
  {
   "cell_type": "code",
   "execution_count": null,
   "id": "163c6737-879f-4a68-a91c-47f348d7fcc6",
   "metadata": {},
   "outputs": [],
   "source": [
    "df[['State', 'International plan']]"
   ]
  },
  {
   "cell_type": "code",
   "execution_count": null,
   "id": "421c63ef-8f08-4992-8614-46e995b0fd17",
   "metadata": {},
   "outputs": [],
   "source": [
    "df.Churn.unique()"
   ]
  },
  {
   "cell_type": "code",
   "execution_count": null,
   "id": "29bbd0a3-e468-47d8-84fa-da2f3c22d728",
   "metadata": {},
   "outputs": [],
   "source": [
    "df.head()"
   ]
  },
  {
   "cell_type": "code",
   "execution_count": null,
   "id": "484dd7b2-1e47-4084-b1cc-8235c852f7e0",
   "metadata": {},
   "outputs": [],
   "source": [
    "df[df['International plan']=='No']"
   ]
  },
  {
   "cell_type": "code",
   "execution_count": null,
   "id": "98de9e71-1ea5-4afb-8940-6d7419d1d04c",
   "metadata": {},
   "outputs": [],
   "source": [
    "df[(df['International plan']=='No') & (df['Churn']==True)]"
   ]
  },
  {
   "cell_type": "code",
   "execution_count": null,
   "id": "8228c7d3-8992-49d6-9944-586db1d47954",
   "metadata": {},
   "outputs": [],
   "source": [
    "df.iloc[14]"
   ]
  },
  {
   "cell_type": "code",
   "execution_count": null,
   "id": "f12dde6e-7f00-4b67-b343-731e63c22648",
   "metadata": {},
   "outputs": [],
   "source": [
    "df.iloc[14,-1]"
   ]
  },
  {
   "cell_type": "code",
   "execution_count": null,
   "id": "dbdc91da-44da-4ff2-a15e-356733f6cf8f",
   "metadata": {},
   "outputs": [],
   "source": [
    "df.iloc[22:33]"
   ]
  },
  {
   "cell_type": "code",
   "execution_count": null,
   "id": "eb6e8387-0d80-42f2-8c0f-16c593339080",
   "metadata": {},
   "outputs": [],
   "source": [
    "state = df.copy()\n",
    "state.set_index('State', inplace=True)"
   ]
  },
  {
   "cell_type": "code",
   "execution_count": null,
   "id": "9427e031-22d7-4eb6-b03f-a4eab710b85b",
   "metadata": {},
   "outputs": [],
   "source": [
    "state.head()"
   ]
  },
  {
   "cell_type": "code",
   "execution_count": null,
   "id": "8c8ffdcb-f921-4eac-be3c-e0a96768d9d4",
   "metadata": {},
   "outputs": [],
   "source": [
    "state.loc['OH']"
   ]
  },
  {
   "cell_type": "code",
   "execution_count": null,
   "id": "782e53c7-894c-4587-965e-612100ba2e0b",
   "metadata": {},
   "outputs": [],
   "source": [
    "df.isnull().sum()"
   ]
  },
  {
   "cell_type": "code",
   "execution_count": null,
   "id": "135e799f-463d-47d1-85e9-92847f2f2daf",
   "metadata": {},
   "outputs": [],
   "source": [
    "df.dropna(inplace=True)"
   ]
  },
  {
   "cell_type": "code",
   "execution_count": null,
   "id": "479bba3b-4f59-457c-9e10-cb454801ffe1",
   "metadata": {},
   "outputs": [],
   "source": [
    "df.isnull().sum()"
   ]
  },
  {
   "cell_type": "code",
   "execution_count": null,
   "id": "7b17d29a-2daf-40e4-a0d1-898c6ecdcebd",
   "metadata": {},
   "outputs": [],
   "source": [
    "df.drop('Area code', axis=1)"
   ]
  },
  {
   "cell_type": "code",
   "execution_count": null,
   "id": "00c72d61-6620-47a4-8ad0-f3166ca04c42",
   "metadata": {},
   "outputs": [],
   "source": [
    "df['New Column'] = df['Total night minutes'] + df['Total intl minutes']"
   ]
  },
  {
   "cell_type": "code",
   "execution_count": null,
   "id": "4c06c6ff-6a6c-4571-a638-e1c852dd1beb",
   "metadata": {},
   "outputs": [],
   "source": [
    "df.head()"
   ]
  },
  {
   "cell_type": "code",
   "execution_count": null,
   "id": "ad33b73d-83da-4514-bf04-2125b39967d9",
   "metadata": {},
   "outputs": [],
   "source": [
    "df['New Column'] = 100"
   ]
  },
  {
   "cell_type": "code",
   "execution_count": null,
   "id": "645a2b5d-5923-460f-b944-4db9cd64cfc5",
   "metadata": {},
   "outputs": [],
   "source": [
    "df.head()"
   ]
  },
  {
   "cell_type": "code",
   "execution_count": null,
   "id": "3d1e819d-16a1-4137-a5cc-90345cd38dde",
   "metadata": {},
   "outputs": [],
   "source": []
  }
 ],
 "metadata": {
  "kernelspec": {
   "display_name": "Python 3 (ipykernel)",
   "language": "python",
   "name": "python3"
  },
  "language_info": {
   "codemirror_mode": {
    "name": "ipython",
    "version": 3
   },
   "file_extension": ".py",
   "mimetype": "text/x-python",
   "name": "python",
   "nbconvert_exporter": "python",
   "pygments_lexer": "ipython3",
   "version": "3.11.7"
  }
 },
 "nbformat": 4,
 "nbformat_minor": 5
}
