{
 "cells": [
  {
   "cell_type": "code",
   "execution_count": 1,
   "id": "267e820e-a2db-454c-9fea-183583427de1",
   "metadata": {},
   "outputs": [
    {
     "name": "stdout",
     "output_type": "stream",
     "text": [
      "Please enter the details of your car.\n"
     ]
    },
    {
     "name": "stdin",
     "output_type": "stream",
     "text": [
      "Year:  1234\n",
      "Make:  222\n",
      "Model:  222\n",
      "Number of doors (2 or 4):  2\n",
      "Type of roof (solid or sun roof):  fff\n"
     ]
    },
    {
     "name": "stdout",
     "output_type": "stream",
     "text": [
      "Vehicle type: car\n",
      "Year: 1234\n",
      "Make: 222\n",
      "Model: 222\n",
      "Number of doors: 2\n",
      "Type of roof: fff\n"
     ]
    }
   ],
   "source": [
    "class Vehicle:\n",
    "    def __init__(self, v_type):\n",
    "        self.v_type = v_type\n",
    "\n",
    "class Automobile(Vehicle):\n",
    "    def __init__(self, v_type, year, make, model, doors, roof):\n",
    "        super().__init__(v_type)\n",
    "        self.year = year\n",
    "        self.make = make\n",
    "        self.model = model\n",
    "        self.doors = doors\n",
    "        self.roof = roof\n",
    "\n",
    "    \n",
    "       \n",
    "\n",
    "def main():\n",
    "    print(\"Please enter the details of your car.\")\n",
    "    v_type = \"car\"\n",
    "    year = input(\"Year: \")\n",
    "    make = input(\"Make: \")\n",
    "    model = input(\"Model: \")\n",
    "    doors = input(\"Number of doors (2 or 4): \")\n",
    "    roof = input(\"Type of roof (solid or sun roof): \")\n",
    "\n",
    "    print(f\"Vehicle type: {v_type}\")\n",
    "    print(f\"Year: {year}\")\n",
    "    print(f\"Make: {make}\")\n",
    "    print(f\"Model: {model}\")\n",
    "    print(f\"Number of doors: {doors}\")\n",
    "    print(f\"Type of roof: {roof}\")\n",
    "    \n",
    "    \n",
    "\n",
    "if __name__ == \"__main__\":\n",
    "    main()\n"
   ]
  },
  {
   "cell_type": "code",
   "execution_count": null,
   "id": "37abecef-87e3-4747-b55a-7b48d19eb540",
   "metadata": {},
   "outputs": [],
   "source": []
  }
 ],
 "metadata": {
  "kernelspec": {
   "display_name": "Python 3 (ipykernel)",
   "language": "python",
   "name": "python3"
  },
  "language_info": {
   "codemirror_mode": {
    "name": "ipython",
    "version": 3
   },
   "file_extension": ".py",
   "mimetype": "text/x-python",
   "name": "python",
   "nbconvert_exporter": "python",
   "pygments_lexer": "ipython3",
   "version": "3.11.7"
  }
 },
 "nbformat": 4,
 "nbformat_minor": 5
}
