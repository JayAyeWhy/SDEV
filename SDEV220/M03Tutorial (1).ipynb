{
 "cells": [
  {
   "cell_type": "code",
   "execution_count": null,
   "id": "c94b31c9-6690-4a6f-9f20-0419d863cc52",
   "metadata": {},
   "outputs": [],
   "source": [
    "The purpose of this assignment is to examine the natures and code of OOP vs Functional styles of programming\n",
    "\n",
    "Instructions\n",
    "Complete the following steps:\n",
    "OOP Programming:\n",
    "Navigate to the following URL: Geeks for Geeks Classes and ObjectsLinks to an external site."
   ]
  },
  {
   "cell_type": "code",
   "execution_count": null,
   "id": "f3ffdef8-20e0-43c9-a1ce-47d1923e79a5",
   "metadata": {},
   "outputs": [],
   "source": [
    "You will need to sign in to GeekforGeeks after clicking on this link. This is a free service that is also an excellent resource for learning about all things coding."
   ]
  },
  {
   "cell_type": "code",
   "execution_count": 1,
   "id": "b493401d-54e1-44b9-b2f3-4bd4b1b6e9aa",
   "metadata": {},
   "outputs": [
    {
     "name": "stdout",
     "output_type": "stream",
     "text": [
      "mammal\n",
      "I'm a mammal\n",
      "I'm a dog\n"
     ]
    }
   ],
   "source": [
    "# Python3 program to\n",
    "# demonstrate instantiating\n",
    "# a class\n",
    "class Dog:\n",
    "\n",
    "    # A simple class\n",
    "    # attribute\n",
    "    attr1 = \"mammal\"\n",
    "    attr2 = \"dog\"\n",
    "\n",
    "    # A sample method\n",
    "    def fun(self):\n",
    "        print(\"I'm a\", self.attr1)\n",
    "        print(\"I'm a\", self.attr2)\n",
    "\n",
    "\n",
    "# Driver code\n",
    "# Object instantiation\n",
    "Rodger = Dog()\n",
    "\n",
    "# Accessing class attributes\n",
    "# and method through objects\n",
    "print(Rodger.attr1)\n",
    "Rodger.fun()"
   ]
  },
  {
   "cell_type": "code",
   "execution_count": 2,
   "id": "1e56f437-7010-4261-abe9-d874d1727ac9",
   "metadata": {},
   "outputs": [
    {
     "name": "stdout",
     "output_type": "stream",
     "text": [
      "Hello my name is John and I work in GeeksForGeeks.\n"
     ]
    }
   ],
   "source": [
    "class GFG:\n",
    "    def __init__(self, name, company):\n",
    "        self.name = name\n",
    "        self.company = company\n",
    "\n",
    "    def show(self):\n",
    "        print(\"Hello my name is \" + self.name+\" and I\" +\n",
    "              \" work in \"+self.company+\".\")\n",
    "\n",
    "\n",
    "obj = GFG(\"John\", \"GeeksForGeeks\")\n",
    "obj.show()"
   ]
  },
  {
   "cell_type": "code",
   "execution_count": 3,
   "id": "920ed18c-7553-434c-8e9d-ceb3ffce1cd5",
   "metadata": {},
   "outputs": [
    {
     "name": "stdout",
     "output_type": "stream",
     "text": [
      "Hello my name is John and I work in GeeksForGeeks.\n"
     ]
    }
   ],
   "source": [
    "class GFG:\n",
    "    def __init__(somename, name, company):\n",
    "        somename.name = name\n",
    "        somename.company = company\n",
    "\n",
    "    def show(somename):\n",
    "        print(\"Hello my name is \" + somename.name +\n",
    "              \" and I work in \"+somename.company+\".\")\n",
    "\n",
    "\n",
    "obj = GFG(\"John\", \"GeeksForGeeks\")\n",
    "obj.show()"
   ]
  },
  {
   "cell_type": "code",
   "execution_count": 4,
   "id": "c2dbbb57-fa07-4d41-b0a4-cc2f9fa54f6f",
   "metadata": {},
   "outputs": [],
   "source": [
    "class MyClass:\n",
    "    pass"
   ]
  },
  {
   "cell_type": "code",
   "execution_count": 5,
   "id": "13b7ac91-33e9-4400-bf47-9612f34d5ffe",
   "metadata": {},
   "outputs": [
    {
     "name": "stdout",
     "output_type": "stream",
     "text": [
      "Hello, my name is Nikhil\n"
     ]
    }
   ],
   "source": [
    "# Sample class with init method\n",
    "class Person:\n",
    "\n",
    "    # init method or constructor\n",
    "    def __init__(self, name):\n",
    "        self.name = name\n",
    "\n",
    "    # Sample Method\n",
    "    def say_hi(self):\n",
    "        print('Hello, my name is', self.name)\n",
    "\n",
    "\n",
    "p = Person('Nikhil')\n",
    "p.say_hi()"
   ]
  },
  {
   "cell_type": "code",
   "execution_count": 6,
   "id": "fc8b6c06-e02e-4e1f-8692-0f9b131c29e3",
   "metadata": {},
   "outputs": [
    {
     "name": "stdout",
     "output_type": "stream",
     "text": [
      "My name is John and I work in GeeksForGeeks.\n"
     ]
    }
   ],
   "source": [
    "class GFG:\n",
    "    def __init__(self, name, company):\n",
    "        self.name = name\n",
    "        self.company = company\n",
    "\n",
    "    def __str__(self):\n",
    "        return f\"My name is {self.name} and I work in {self.company}.\"\n",
    "\n",
    "\n",
    "my_obj = GFG(\"John\", \"GeeksForGeeks\")\n",
    "print(my_obj)"
   ]
  },
  {
   "cell_type": "code",
   "execution_count": 7,
   "id": "fd9d0a9d-3d8e-4f6c-bb23-17151975cd20",
   "metadata": {},
   "outputs": [
    {
     "name": "stdout",
     "output_type": "stream",
     "text": [
      "Rodger details:\n",
      "Rodger is a dog\n",
      "Breed:  Pug\n",
      "Color:  brown\n",
      "\n",
      "Buzo details:\n",
      "Buzo is a dog\n",
      "Breed:  Bulldog\n",
      "Color:  black\n",
      "\n",
      "Accessing class variable using class name\n",
      "dog\n"
     ]
    }
   ],
   "source": [
    "# Python3 program to show that the variables with a value\n",
    "# assigned in the class declaration, are class variables and\n",
    "# variables inside methods and constructors are instance\n",
    "# variables.\n",
    "\n",
    "# Class for Dog\n",
    "\n",
    "\n",
    "class Dog:\n",
    "\n",
    "    # Class Variable\n",
    "    animal = 'dog'\n",
    "\n",
    "    # The init method or constructor\n",
    "    def __init__(self, breed, color):\n",
    "\n",
    "        # Instance Variable\n",
    "        self.breed = breed\n",
    "        self.color = color\n",
    "\n",
    "\n",
    "# Objects of Dog class\n",
    "Rodger = Dog(\"Pug\", \"brown\")\n",
    "Buzo = Dog(\"Bulldog\", \"black\")\n",
    "\n",
    "print('Rodger details:')\n",
    "print('Rodger is a', Rodger.animal)\n",
    "print('Breed: ', Rodger.breed)\n",
    "print('Color: ', Rodger.color)\n",
    "\n",
    "print('\\nBuzo details:')\n",
    "print('Buzo is a', Buzo.animal)\n",
    "print('Breed: ', Buzo.breed)\n",
    "print('Color: ', Buzo.color)\n",
    "\n",
    "# Class variables can be accessed using class\n",
    "# name also\n",
    "print(\"\\nAccessing class variable using class name\")\n",
    "print(Dog.animal)"
   ]
  },
  {
   "cell_type": "code",
   "execution_count": 8,
   "id": "62f2b741-1aea-4f8b-b431-6df85f732cf8",
   "metadata": {},
   "outputs": [
    {
     "name": "stdout",
     "output_type": "stream",
     "text": [
      "brown\n"
     ]
    }
   ],
   "source": [
    "# Python3 program to show that we can create\n",
    "# instance variables inside methods\n",
    "\n",
    "# Class for Dog\n",
    "\n",
    "\n",
    "class Dog:\n",
    "\n",
    "    # Class Variable\n",
    "    animal = 'dog'\n",
    "\n",
    "    # The init method or constructor\n",
    "    def __init__(self, breed):\n",
    "\n",
    "        # Instance Variable\n",
    "        self.breed = breed\n",
    "\n",
    "    # Adds an instance variable\n",
    "    def setColor(self, color):\n",
    "        self.color = color\n",
    "\n",
    "    # Retrieves instance variable\n",
    "    def getColor(self):\n",
    "        return self.color\n",
    "\n",
    "\n",
    "# Driver Code\n",
    "Rodger = Dog(\"pug\")\n",
    "Rodger.setColor(\"brown\")\n",
    "print(Rodger.getColor())"
   ]
  },
  {
   "cell_type": "code",
   "execution_count": null,
   "id": "83e48374-ef36-4fab-ac2e-1c031fbd4b06",
   "metadata": {},
   "outputs": [],
   "source": []
  },
  {
   "cell_type": "code",
   "execution_count": null,
   "id": "3f3e6897-fdb0-4dfc-a1aa-e3a0a4f39f12",
   "metadata": {},
   "outputs": [],
   "source": []
  },
  {
   "cell_type": "code",
   "execution_count": null,
   "id": "960b6d27-e803-4e26-8515-93208d85d0d2",
   "metadata": {},
   "outputs": [],
   "source": []
  },
  {
   "cell_type": "code",
   "execution_count": null,
   "id": "c791877a-f38c-4c44-a909-c135b0c523c3",
   "metadata": {},
   "outputs": [],
   "source": []
  },
  {
   "cell_type": "code",
   "execution_count": null,
   "id": "7eeed385-4eb2-4083-90f9-0ef4ce891794",
   "metadata": {},
   "outputs": [],
   "source": []
  },
  {
   "cell_type": "code",
   "execution_count": null,
   "id": "07700740-af4a-4b36-b69e-d22eafb00be8",
   "metadata": {},
   "outputs": [],
   "source": []
  },
  {
   "cell_type": "code",
   "execution_count": null,
   "id": "2ce5915d-47a7-45e1-9d71-31470997a4c3",
   "metadata": {},
   "outputs": [],
   "source": []
  },
  {
   "cell_type": "code",
   "execution_count": null,
   "id": "857d3e8e-d5a3-4598-90df-78f45364ca21",
   "metadata": {},
   "outputs": [],
   "source": []
  },
  {
   "cell_type": "code",
   "execution_count": null,
   "id": "0aed754c-0902-4abc-ae3c-ab035eafcfff",
   "metadata": {},
   "outputs": [],
   "source": []
  },
  {
   "cell_type": "code",
   "execution_count": null,
   "id": "2d12897d-db4d-44b6-bad1-52d2d261c677",
   "metadata": {},
   "outputs": [],
   "source": []
  },
  {
   "cell_type": "code",
   "execution_count": null,
   "id": "e2bfbacf-753a-42ef-be64-a4316b4250cb",
   "metadata": {},
   "outputs": [],
   "source": []
  },
  {
   "cell_type": "code",
   "execution_count": null,
   "id": "e0a37466-c863-4947-89e2-e3de9c04ec7a",
   "metadata": {},
   "outputs": [],
   "source": []
  },
  {
   "cell_type": "code",
   "execution_count": null,
   "id": "bef3b186-ff13-4f0a-bd92-469d9d872b6f",
   "metadata": {},
   "outputs": [],
   "source": []
  },
  {
   "cell_type": "code",
   "execution_count": null,
   "id": "68fa6a5b-cdaa-4488-8a60-2d9278f43261",
   "metadata": {},
   "outputs": [],
   "source": []
  },
  {
   "cell_type": "code",
   "execution_count": null,
   "id": "54e8ab2f-a7e3-4f8a-b164-00e6088f135b",
   "metadata": {},
   "outputs": [],
   "source": []
  },
  {
   "cell_type": "code",
   "execution_count": null,
   "id": "d94f97ec-45a9-4496-8ff6-f678c1de0d9b",
   "metadata": {},
   "outputs": [],
   "source": []
  },
  {
   "cell_type": "code",
   "execution_count": null,
   "id": "c2cf127e-9434-48e8-b7f4-3eab00acf66a",
   "metadata": {},
   "outputs": [],
   "source": []
  },
  {
   "cell_type": "code",
   "execution_count": null,
   "id": "a30cf54d-a532-44cd-9ee3-917ed8cb222b",
   "metadata": {},
   "outputs": [],
   "source": []
  },
  {
   "cell_type": "code",
   "execution_count": null,
   "id": "1e784ef8-6980-402b-b2a6-354a9eb65324",
   "metadata": {},
   "outputs": [],
   "source": []
  },
  {
   "cell_type": "code",
   "execution_count": null,
   "id": "0205e20a-3d62-4c6f-84f9-f59511e9dcda",
   "metadata": {},
   "outputs": [],
   "source": []
  },
  {
   "cell_type": "code",
   "execution_count": null,
   "id": "d581bc23-1a57-45ca-8178-6d3b3f651a5e",
   "metadata": {},
   "outputs": [],
   "source": []
  },
  {
   "cell_type": "code",
   "execution_count": null,
   "id": "39cd7017-3012-4758-ab27-0940f4665a1c",
   "metadata": {},
   "outputs": [],
   "source": []
  },
  {
   "cell_type": "code",
   "execution_count": null,
   "id": "2f00ded5-bc31-4e2c-97cf-2f7d2a79c71d",
   "metadata": {},
   "outputs": [],
   "source": []
  },
  {
   "cell_type": "code",
   "execution_count": null,
   "id": "77a479c0-dab2-49a0-8b4c-8cfef9fc31d2",
   "metadata": {},
   "outputs": [],
   "source": []
  },
  {
   "cell_type": "code",
   "execution_count": null,
   "id": "9e45b8e4-5475-46e7-8fca-752c34f3c4dd",
   "metadata": {},
   "outputs": [],
   "source": []
  },
  {
   "cell_type": "code",
   "execution_count": null,
   "id": "bff8fdc2-1f5d-4437-a19d-3293a4ffe18e",
   "metadata": {},
   "outputs": [],
   "source": []
  },
  {
   "cell_type": "code",
   "execution_count": null,
   "id": "19329547-01d9-4abc-9745-877ee4dd1d95",
   "metadata": {},
   "outputs": [],
   "source": []
  },
  {
   "cell_type": "code",
   "execution_count": null,
   "id": "8cddfcf9-cd51-45db-811a-6baeb4324934",
   "metadata": {},
   "outputs": [],
   "source": []
  },
  {
   "cell_type": "code",
   "execution_count": null,
   "id": "b1f3f86d-d8bd-407f-92f0-531a1810bdcc",
   "metadata": {},
   "outputs": [],
   "source": []
  },
  {
   "cell_type": "code",
   "execution_count": null,
   "id": "628ff5bb-0880-484c-a419-b4d25da504b4",
   "metadata": {},
   "outputs": [],
   "source": []
  },
  {
   "cell_type": "code",
   "execution_count": null,
   "id": "99a4bbfb-5fdf-4d8e-84aa-c79a1c350b0f",
   "metadata": {},
   "outputs": [],
   "source": []
  },
  {
   "cell_type": "code",
   "execution_count": null,
   "id": "37238540-b401-49b9-a5d6-802f98a83c0c",
   "metadata": {},
   "outputs": [],
   "source": []
  },
  {
   "cell_type": "code",
   "execution_count": null,
   "id": "b6041595-c176-4427-b938-b68d504f207a",
   "metadata": {},
   "outputs": [],
   "source": []
  },
  {
   "cell_type": "code",
   "execution_count": null,
   "id": "067e35cf-12f8-4ee6-8efb-c493ebc57b7f",
   "metadata": {},
   "outputs": [],
   "source": []
  },
  {
   "cell_type": "code",
   "execution_count": null,
   "id": "6270f034-99d9-415d-be4f-47862912eb65",
   "metadata": {},
   "outputs": [],
   "source": []
  },
  {
   "cell_type": "code",
   "execution_count": null,
   "id": "5a4d9d72-0c5f-45a0-bb02-d08ac1210ab8",
   "metadata": {},
   "outputs": [],
   "source": []
  },
  {
   "cell_type": "code",
   "execution_count": null,
   "id": "326eee46-e8de-49b3-beac-88c9e8dc1a1a",
   "metadata": {},
   "outputs": [],
   "source": []
  },
  {
   "cell_type": "code",
   "execution_count": null,
   "id": "ccfb3f0d-9649-486f-b736-03bd5ea7499d",
   "metadata": {},
   "outputs": [],
   "source": [
    "Read through the information related to classes and objects and examine the examples. \n",
    "Complete the programming exercise - Sort an Array of 0s, 1s, and 2sLinks to an external site.. Make sure that you choose Python 3 as the language for the exercise (in the top left of the code window)\n",
    "If you need help with the code, you may click the Editorial tab in the left window (the instructions window) to get a walk-through of the code. \n",
    "Functional Programming\n",
    "Navigate to the following URL: Geeks for Geeks Lambda ExpressionsLinks to an external site.\n",
    "You will need to sign in to GeekforGeeks after clicking on this link. This is a free service that is also a great resource for learning about all things coding.\n",
    "Read through the information related to Lambda Expressions and examine the examples. \n",
    "Complete the programming exercise - Binary SearchLinks to an external site.. Make sure that you choose Python 3 as the language for the exercise (in the top left of the code window)\n",
    "If you need help with the code, you may click the Editorial tab in the left window (the instructions window) to get a walk-through of the code. \n",
    "There will be two exercises that you will need to turn in:\n",
    "Sort an Array of 0s, 1s, and 2s\n",
    "Binary Search\n",
    "What To Turn In\n",
    "After completing/reading the above assignment, do the following:\n",
    "In your Jupyter notebook click of File -> Download as -> Notebook\n",
    "This should save a .ipynb file to your folder location that you specify\n",
    "Upload the ipynb file that you created into a Github repository.  Github will automatically render the notebook in the browser."
   ]
  }
 ],
 "metadata": {
  "kernelspec": {
   "display_name": "Python 3 (ipykernel)",
   "language": "python",
   "name": "python3"
  },
  "language_info": {
   "codemirror_mode": {
    "name": "ipython",
    "version": 3
   },
   "file_extension": ".py",
   "mimetype": "text/x-python",
   "name": "python",
   "nbconvert_exporter": "python",
   "pygments_lexer": "ipython3",
   "version": "3.11.7"
  }
 },
 "nbformat": 4,
 "nbformat_minor": 5
}
