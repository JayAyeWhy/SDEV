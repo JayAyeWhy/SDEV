{
 "cells": [
  {
   "cell_type": "markdown",
   "id": "90064fdd-df2f-4feb-a40b-03073d2f64cb",
   "metadata": {},
   "source": [
    " ## M02 Programming Assignment - Loops and Conditionals"
   ]
  },
  {
   "cell_type": "markdown",
   "id": "0801c17a-83e6-40aa-9364-a96cc2331683",
   "metadata": {},
   "source": [
    "### 4.1"
   ]
  },
  {
   "cell_type": "code",
   "execution_count": 3,
   "id": "039737e3-87a3-4187-aba8-1db1d754e1af",
   "metadata": {},
   "outputs": [
    {
     "name": "stdin",
     "output_type": "stream",
     "text": [
      "Guess my number between 1 - 10:  8\n"
     ]
    },
    {
     "name": "stdout",
     "output_type": "stream",
     "text": [
      "Just Right\n"
     ]
    }
   ],
   "source": [
    "secret = 8\n",
    "while bool:\n",
    "    guess = int(input(\"Guess my number between 1 - 10: \"))\n",
    "    if guess < secret:\n",
    "        print(\"Too low, try again\")\n",
    "    elif guess > secret:\n",
    "        print(\"Too high, try again\")\n",
    "    elif guess == secret:\n",
    "        print(\"Just Right\")\n",
    "        bool = False\n",
    "\n"
   ]
  },
  {
   "cell_type": "markdown",
   "id": "8d3b461d-9307-4f48-8821-724eb92bdcbc",
   "metadata": {},
   "source": [
    "## 4.2"
   ]
  },
  {
   "cell_type": "code",
   "execution_count": 4,
   "id": "3f79b518-f750-48f2-b222-805036b12569",
   "metadata": {},
   "outputs": [
    {
     "name": "stdout",
     "output_type": "stream",
     "text": [
      "Cherry is small and not green!\n",
      "Pea is small and green!\n",
      "Watermelon is large and green!\n",
      "Pumpkin is large and not green\n"
     ]
    }
   ],
   "source": [
    "def ColorSize(Fruit,small,Green):\n",
    "    if small and Green:\n",
    "        print(Fruit + \" is small and green!\")\n",
    "    if small == False and Green:\n",
    "        print(Fruit + \" is large and green!\")\n",
    "    if Green == False and small:\n",
    "        print(Fruit + \" is small and not green!\")\n",
    "    if Green == False and small == False:\n",
    "        print(Fruit + \" is large and not green\")\n",
    "ColorSize(\"Cherry\",True,False)\n",
    "ColorSize(\"Pea\",True,True)\n",
    "ColorSize(\"Watermelon\",False,True)\n",
    "ColorSize(\"Pumpkin\",False,False)\n"
   ]
  },
  {
   "cell_type": "markdown",
   "id": "16d7163b-8e1f-4005-8846-b1c9c2910695",
   "metadata": {},
   "source": [
    "## 6.1"
   ]
  },
  {
   "cell_type": "code",
   "execution_count": null,
   "id": "35285748-29f5-467f-ac66-22fb1296b369",
   "metadata": {},
   "outputs": [],
   "source": [
    "list = [3,2,1,0]\n",
    "for i in range(0, len(list), 1):\n",
    "    print(list[i])"
   ]
  },
  {
   "cell_type": "markdown",
   "id": "0c922c31-f2c8-4658-a5aa-c120ba54a442",
   "metadata": {},
   "source": [
    "## 6.2"
   ]
  },
  {
   "cell_type": "code",
   "execution_count": null,
   "id": "611cd0c0-8394-40fb-992d-4a24c858a5f7",
   "metadata": {},
   "outputs": [],
   "source": [
    "loop = True\n",
    "guess_me = 7\n",
    "number = 1\n",
    "while loop:\n",
    "    if number < guess_me:\n",
    "        print(\"Too low\")\n",
    "        number += 1\n",
    "    elif number > guess_me:\n",
    "        print(\"Oops\")\n",
    "    elif number == guess_me:\n",
    "        print(\"Found it!\")\n",
    "        loop = False"
   ]
  },
  {
   "cell_type": "markdown",
   "id": "03381c2d-d0a9-4b5d-a7f1-989925261315",
   "metadata": {},
   "source": [
    "## 6.3"
   ]
  },
  {
   "cell_type": "code",
   "execution_count": 5,
   "id": "0ddd27b9-89a7-4350-955a-f9452c58a031",
   "metadata": {},
   "outputs": [
    {
     "name": "stdout",
     "output_type": "stream",
     "text": [
      "Too low\n",
      "Too low\n",
      "Too low\n",
      "Too low\n",
      "Found it!\n"
     ]
    }
   ],
   "source": [
    "loop = True\n",
    "guess_me = 5\n",
    "number = 1\n",
    "\n",
    "\n",
    "for i in range(number, guess_me+1, 1):\n",
    "    if number < guess_me:\n",
    "        print(\"Too low\")\n",
    "        number += 1\n",
    "    elif number > guess_me:\n",
    "        print(\"Oops\")\n",
    "    elif number == guess_me:\n",
    "        print(\"Found it!\")\n",
    "\n"
   ]
  },
  {
   "cell_type": "code",
   "execution_count": null,
   "id": "8fc69225-4dac-4664-ba86-ea8b4b411e97",
   "metadata": {},
   "outputs": [],
   "source": []
  }
 ],
 "metadata": {
  "kernelspec": {
   "display_name": "Python 3 (ipykernel)",
   "language": "python",
   "name": "python3"
  },
  "language_info": {
   "codemirror_mode": {
    "name": "ipython",
    "version": 3
   },
   "file_extension": ".py",
   "mimetype": "text/x-python",
   "name": "python",
   "nbconvert_exporter": "python",
   "pygments_lexer": "ipython3",
   "version": "3.11.7"
  }
 },
 "nbformat": 4,
 "nbformat_minor": 5
}
