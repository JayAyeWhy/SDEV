{
 "cells": [
  {
   "cell_type": "markdown",
   "id": "ca7fa4fb-1f0a-45e4-a7b4-176a73574a7e",
   "metadata": {},
   "source": [
    "## M03 Programming Assignment - Lists and Functions"
   ]
  },
  {
   "cell_type": "markdown",
   "id": "cd2a642c-0ed5-4232-9311-19cc410c5519",
   "metadata": {},
   "source": [
    "### Please review chapter 7,8,9 before you start this assignment"
   ]
  },
  {
   "cell_type": "code",
   "execution_count": null,
   "id": "6c10ba07-4052-4ae7-8e11-895603fb01e9",
   "metadata": {},
   "outputs": [],
   "source": [
    "7.4 Make a list called things with these three strings as elements: \"mozzarella\", \"cinderella\", \"salmonella\"."
   ]
  },
  {
   "cell_type": "code",
   "execution_count": 1,
   "id": "b9b4a678-6bce-48e8-bd5c-139a5be1ccbd",
   "metadata": {},
   "outputs": [
    {
     "data": {
      "text/plain": [
       "['mozzarella', 'cinderella', 'salmonella']"
      ]
     },
     "execution_count": 1,
     "metadata": {},
     "output_type": "execute_result"
    }
   ],
   "source": [
    "things =[\"mozzarella\", \"cinderella\", \"salmonella\"]\n",
    "things"
   ]
  },
  {
   "cell_type": "code",
   "execution_count": null,
   "id": "9d77facc-73a9-4047-b148-59b554826ff8",
   "metadata": {},
   "outputs": [],
   "source": [
    "7.5 Capitalize the element in things that refers to a person and then print the list. Did it change the element in the list?"
   ]
  },
  {
   "cell_type": "code",
   "execution_count": 2,
   "id": "1905e3f1-d385-4a19-80f2-4d6cc0dae02f",
   "metadata": {},
   "outputs": [
    {
     "data": {
      "text/plain": [
       "'Cinderella'"
      ]
     },
     "execution_count": 2,
     "metadata": {},
     "output_type": "execute_result"
    }
   ],
   "source": [
    "things[1].capitalize()"
   ]
  },
  {
   "cell_type": "code",
   "execution_count": 3,
   "id": "071419f5-1bbe-48c3-9e95-c7d3ee78dbad",
   "metadata": {},
   "outputs": [
    {
     "data": {
      "text/plain": [
       "['mozzarella', 'cinderella', 'salmonella']"
      ]
     },
     "execution_count": 3,
     "metadata": {},
     "output_type": "execute_result"
    }
   ],
   "source": [
    "things"
   ]
  },
  {
   "cell_type": "code",
   "execution_count": 6,
   "id": "c5653155-916a-40e5-9774-7bbc38f52241",
   "metadata": {},
   "outputs": [
    {
     "data": {
      "text/plain": [
       "['Mozzarella', 'Cinderella', 'salmonella']"
      ]
     },
     "execution_count": 6,
     "metadata": {},
     "output_type": "execute_result"
    }
   ],
   "source": [
    "## You need to assign it back\n",
    "things[1] = things[1].capitalize()\n",
    "things"
   ]
  },
  {
   "cell_type": "code",
   "execution_count": null,
   "id": "3455ed5f-bbac-4c36-8ed8-23f774ee926d",
   "metadata": {},
   "outputs": [],
   "source": [
    "7.6 Make the cheesy element of things all uppercase and then print the list."
   ]
  },
  {
   "cell_type": "code",
   "execution_count": 7,
   "id": "db252e40-30f5-43d4-b9ae-170f92376923",
   "metadata": {},
   "outputs": [
    {
     "data": {
      "text/plain": [
       "['Mozzarella', 'Cinderella', 'salmonella']"
      ]
     },
     "execution_count": 7,
     "metadata": {},
     "output_type": "execute_result"
    }
   ],
   "source": [
    "## You need to assign it back\n",
    "things[0] = things[0].capitalize()\n",
    "things"
   ]
  },
  {
   "cell_type": "code",
   "execution_count": 8,
   "id": "25326471-3227-4402-b634-026191298524",
   "metadata": {},
   "outputs": [
    {
     "data": {
      "text/plain": [
       "['MOZZARELLA', 'Cinderella', 'salmonella']"
      ]
     },
     "execution_count": 8,
     "metadata": {},
     "output_type": "execute_result"
    }
   ],
   "source": [
    "## You need to assign it back\n",
    "things[0] = things[0].upper()\n",
    "things"
   ]
  },
  {
   "cell_type": "code",
   "execution_count": null,
   "id": "f762e2ec-c3a8-4018-94f9-50172ba192a1",
   "metadata": {},
   "outputs": [],
   "source": [
    "things"
   ]
  },
  {
   "cell_type": "code",
   "execution_count": null,
   "id": "aac782ad-51e0-4c9b-a5b9-ab9879998638",
   "metadata": {},
   "outputs": [],
   "source": [
    "7.7 Delete the disease element from things, collect your Nobel Prize, and print the list."
   ]
  },
  {
   "cell_type": "code",
   "execution_count": 9,
   "id": "2a856faa-3c9e-4d7e-9298-b9f352ec2040",
   "metadata": {},
   "outputs": [
    {
     "data": {
      "text/plain": [
       "['MOZZARELLA', 'Cinderella']"
      ]
     },
     "execution_count": 9,
     "metadata": {},
     "output_type": "execute_result"
    }
   ],
   "source": [
    "things.remove('salmonella')\n",
    "things"
   ]
  },
  {
   "cell_type": "code",
   "execution_count": 13,
   "id": "cb01931a-1e6c-4b27-9d65-6d54a5e1330c",
   "metadata": {},
   "outputs": [
    {
     "data": {
      "text/plain": [
       "['mozzarella', 'cinderella', 'salmonella']"
      ]
     },
     "execution_count": 13,
     "metadata": {},
     "output_type": "execute_result"
    }
   ],
   "source": [
    "things =[\"mozzarella\", \"cinderella\", \"salmonella\"]\n",
    "things"
   ]
  },
  {
   "cell_type": "code",
   "execution_count": 14,
   "id": "31d286a7-eb37-4b7b-96a1-20563dbcde6a",
   "metadata": {},
   "outputs": [
    {
     "data": {
      "text/plain": [
       "['mozzarella', 'cinderella']"
      ]
     },
     "execution_count": 14,
     "metadata": {},
     "output_type": "execute_result"
    }
   ],
   "source": [
    "del things[-1] # the last element\n",
    "things"
   ]
  },
  {
   "cell_type": "code",
   "execution_count": null,
   "id": "8452ed9b-c89e-4f32-927f-3761d8fbb244",
   "metadata": {},
   "outputs": [],
   "source": [
    "9.1 Define a function called good() that returns the following list: ['Harry', 'Ron', 'Hermione']."
   ]
  },
  {
   "cell_type": "code",
   "execution_count": 16,
   "id": "c11438ee-3ccf-4172-81fb-757b729cf4ec",
   "metadata": {},
   "outputs": [
    {
     "data": {
      "text/plain": [
       "['Harry', 'Ron', 'Hermione']"
      ]
     },
     "execution_count": 16,
     "metadata": {},
     "output_type": "execute_result"
    }
   ],
   "source": [
    "def good():\n",
    "    return ['Harry', 'Ron', 'Hermione']\n",
    "good()"
   ]
  },
  {
   "cell_type": "code",
   "execution_count": null,
   "id": "38f6d61f-f268-4c9d-b995-0701a11faf43",
   "metadata": {},
   "outputs": [],
   "source": [
    "9.2 Define a generator function called get_odds() that returns the odd numbers from range(10). Use a for loop to find and print the third value returned."
   ]
  },
  {
   "cell_type": "code",
   "execution_count": 19,
   "id": "98461988-4aeb-4545-b213-37499ff36a42",
   "metadata": {},
   "outputs": [],
   "source": [
    "def get_odds():\n",
    "    for i in range(1,10,2):# range function will generate 1,3,5,7,9 \n",
    "        yield i \n",
    "# get_odds() will return a generator object  "
   ]
  },
  {
   "cell_type": "code",
   "execution_count": null,
   "id": "ea54368e-9780-47b6-86f1-cd32fa7974f0",
   "metadata": {},
   "outputs": [],
   "source": [
    "counter = 1 # initialize a counter\n",
    "for odd in get_odds():\n",
    "    if counter ==3:\n",
    "        print(f\"The 3rd odd number is {odd} \")\n",
    "        break # jumpu out of loop\n",
    "    counter+=1\n",
    "    "
   ]
  },
  {
   "cell_type": "code",
   "execution_count": null,
   "id": "d876c79d",
   "metadata": {},
   "outputs": [],
   "source": [
    " "
   ]
  }
 ],
 "metadata": {
  "kernelspec": {
   "display_name": "Python 3 (ipykernel)",
   "language": "python",
   "name": "python3"
  },
  "language_info": {
   "codemirror_mode": {
    "name": "ipython",
    "version": 3
   },
   "file_extension": ".py",
   "mimetype": "text/x-python",
   "name": "python",
   "nbconvert_exporter": "python",
   "pygments_lexer": "ipython3",
   "version": "3.11.7"
  }
 },
 "nbformat": 4,
 "nbformat_minor": 5
}
