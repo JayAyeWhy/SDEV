{
 "cells": [
  {
   "cell_type": "markdown",
   "id": "c2a08918-e060-4f9d-9d3a-4b39c86f1334",
   "metadata": {},
   "source": [
    "### 11.1 Create a file called zoo.py. In it, define a function called hours() that prints the\n",
    "string 'Open 9-5 daily'. Then, use the interactive interpreter to import the zoo\n",
    "module and call its hours() function."
   ]
  },
  {
   "cell_type": "code",
   "execution_count": null,
   "id": "b8582511-c389-41c3-82ec-9ce831cf79f3",
   "metadata": {},
   "outputs": [],
   "source": [
    "from google.colab import files\n",
    "uploaded = files.upload()"
   ]
  },
  {
   "cell_type": "code",
   "execution_count": null,
   "id": "7a819516-6e3d-4413-b644-2ab40a71a788",
   "metadata": {},
   "outputs": [],
   "source": [
    "import zoo\n",
    "from importlib import reload\n",
    "reload(zoo)\n",
    "\n",
    "zoo.hours()"
   ]
  },
  {
   "cell_type": "markdown",
   "id": "82728122-6c66-4f18-a569-fa7d102e54ef",
   "metadata": {},
   "source": [
    "### 11.2 In the interactive interpreter, import the zoo module as menagerie and call its\n",
    "hours() function"
   ]
  },
  {
   "cell_type": "code",
   "execution_count": null,
   "id": "7644db3d-f23e-4a50-9c31-f86082d1adca",
   "metadata": {},
   "outputs": [],
   "source": [
    "import zoo as menagerie\n",
    "menagerie.hours()"
   ]
  },
  {
   "cell_type": "markdown",
   "id": "5837a24a-54ee-4ce0-adee-0569b884678f",
   "metadata": {},
   "source": [
    "### 11.3 Staying in the interpreter, import the hours() function from zoo directly and call\n",
    "it."
   ]
  },
  {
   "cell_type": "code",
   "execution_count": null,
   "id": "c4c69297-4e7a-4457-b585-c09931d33262",
   "metadata": {},
   "outputs": [],
   "source": [
    "menagerie.hours()"
   ]
  },
  {
   "cell_type": "markdown",
   "id": "7e32bb29-c219-4bb1-b306-2e9aa6345f95",
   "metadata": {},
   "source": [
    "### 15.1 Use multiprocessing to create three separate processes. Make each one wait a\n",
    "random number of seconds between zero and one, print the current time, and then\n",
    "exit.\n"
   ]
  },
  {
   "cell_type": "code",
   "execution_count": null,
   "id": "f35edb43-7321-45f6-b020-5ab4453bee1f",
   "metadata": {},
   "outputs": [],
   "source": [
    "import multiprocessing\n",
    "\n",
    "from datetime import datetime\n",
    "\n",
    "import time\n",
    "\n",
    "import random\n",
    "\n",
    "def ptime():\n",
    "\n",
    "   cur = datetime.now()\n",
    "\n",
    "   print(\"Today's date and time is {}\".format(cur))\n",
    "\n",
    "   time.sleep(random.random())\n",
    "\n",
    "if __name__ == '__main__':\n",
    "\n",
    "   proc1 = multiprocessing.Process(target=ptime())\n",
    "\n",
    "   proc2 = multiprocessing.Process(target=ptime())\n",
    "\n",
    "   proc3 = multiprocessing.Process(target=ptime())\n",
    "\n",
    "   proc1.start()\n",
    "\n",
    "   proc2.start()\n",
    "\n",
    "   proc3.start()\n",
    "\n",
    "   proc1.join()\n",
    "\n",
    "   proc2.join()\n",
    "\n",
    "   proc3.join()\n",
    "\n"
   ]
  }
 ],
 "metadata": {
  "kernelspec": {
   "display_name": "Python 3 (ipykernel)",
   "language": "python",
   "name": "python3"
  },
  "language_info": {
   "codemirror_mode": {
    "name": "ipython",
    "version": 3
   },
   "file_extension": ".py",
   "mimetype": "text/x-python",
   "name": "python",
   "nbconvert_exporter": "python",
   "pygments_lexer": "ipython3",
   "version": "3.11.7"
  }
 },
 "nbformat": 4,
 "nbformat_minor": 5
}
